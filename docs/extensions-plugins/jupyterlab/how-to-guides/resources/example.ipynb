{
 "cells": [
  {
   "cell_type": "code",
   "execution_count": null,
   "id": "35bbb257-3bd4-433a-a302-81fef1b381fb",
   "metadata": {},
   "outputs": [],
   "source": [
    "from PIL import Image, ImageDraw\n",
    "\n",
    "# Create a blank image with white background\n",
    "image_size = (200, 200)\n",
    "image = Image.new('RGB', image_size, 'white')\n",
    "draw = ImageDraw.Draw(image)\n",
    "\n",
    "# Define the circle parameters\n",
    "center = (100, 100)\n",
    "radius = 50\n",
    "bounding_box = [center[0] - radius, center[1] - radius, center[0] + radius, center[1] + radius]\n",
    "\n",
    "# Draw the circle\n",
    "draw.ellipse(bounding_box, outline='black', width=3)\n",
    "\n",
    "# Display the image\n",
    "image"
   ]
  }
 ],
 "metadata": {
  "kernelspec": {
   "display_name": "Python 3 (ipykernel)",
   "language": "python",
   "name": "python3"
  },
  "language_info": {
   "codemirror_mode": {
    "name": "ipython",
    "version": 3
   },
   "file_extension": ".py",
   "mimetype": "text/x-python",
   "name": "python",
   "nbconvert_exporter": "python",
   "pygments_lexer": "ipython3",
   "version": "3.12.4"
  }
 },
 "nbformat": 4,
 "nbformat_minor": 5
}
